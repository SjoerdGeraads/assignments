{
 "cells": [
  {
   "cell_type": "markdown",
   "metadata": {},
   "source": [
    "Before you turn this problem in, make sure everything runs as expected. First, **restart the kernel** (in the menubar, select Kernel$\\rightarrow$Restart) and then **run all cells** (in the menubar, select Cell$\\rightarrow$Run All).\n",
    "\n",
    "Make sure you fill in any place that says `YOUR CODE HERE` or \"YOUR ANSWER HERE\", as well as your name and collaborators below:"
   ]
  },
  {
   "cell_type": "code",
   "execution_count": 10,
   "metadata": {},
   "outputs": [],
   "source": [
    "NAME = \"Sjoerd Geraads, 2008618\"\n",
    "COLLABORATORS = \"Mateo Malbasic, 2009362\" \n",
    "\n"
   ]
  },
  {
   "cell_type": "markdown",
   "metadata": {},
   "source": [
    "---"
   ]
  },
  {
   "cell_type": "markdown",
   "metadata": {},
   "source": [
    "Fill in the cell above to provide us with your name and student number, like\n",
    "\n",
    "NAME = \"Adam Smith, #student number#\"\n",
    "\n",
    "where you replace \"#student number#\" with your ... (very good!)\n",
    "\n",
    "and if you are doing this with someone else (not more than one other person):\n",
    "\n",
    "COLLABORATORS = \"Karl Marx, #student number#\""
   ]
  },
  {
   "cell_type": "markdown",
   "metadata": {
    "deletable": false,
    "editable": false,
    "nbgrader": {
     "checksum": "a7ae5c69becf064d614c6c38935eca51",
     "grade": false,
     "grade_id": "cell-895e9a7b94992ec9",
     "locked": true,
     "schema_version": 1,
     "solution": false
    }
   },
   "source": [
    "# exam June 7th, 2018\n"
   ]
  },
  {
   "cell_type": "markdown",
   "metadata": {
    "deletable": false,
    "editable": false,
    "nbgrader": {
     "checksum": "bc48d165f54aa364aa34509649fcdef5",
     "grade": false,
     "grade_id": "cell-540987818af25557",
     "locked": true,
     "schema_version": 1,
     "solution": false
    }
   },
   "source": [
    "\n",
    "In the first cell of the notebook, give us your name and student number in the way indicated above. If you do this notebook with --at max.-- one other student, give her/his name and student number as well under \"COLLABORATORS\".\n",
    "\n",
    "Fill in the notebook (see below for code cells and text cells that you need to fill in).\n",
    "\n",
    "If you look at the menus above (File, Edit, View etc.), there is one called \"Cell\". If you click on this, you can change the \"Cell Type\". Choose \"Code\" when you are typing python or R code. Choose \"Markdown\" when you are typing, well, markdown.\n",
    "\n",
    "When you finish the notebook, make sure that you **save it with the output of your code included**. \n",
    "\n",
    "Then put it on github, e.g. by dragging it onto github (see instructions below). \n",
    "\n",
    "Finally, add a link to your README file with the name of this exam: \"Exam June 7, 2018\".\n",
    "\n"
   ]
  },
  {
   "cell_type": "markdown",
   "metadata": {
    "deletable": false,
    "editable": false,
    "nbgrader": {
     "checksum": "6fad9bed312da1b0097e9c520b18e3fb",
     "grade": false,
     "grade_id": "cell-e1cf88cb799f1f43",
     "locked": true,
     "schema_version": 1,
     "solution": false
    }
   },
   "source": [
    "## price effects of mergers\n",
    "\n",
    "We consider a merger in this notebook. \n",
    "\n",
    "First we calculate the equilibrium with three firms, denoted by 1, 2 and 3. Then firms 2 and 3 merge so that we are left with 2 firms; denoted by 1 and 2.\n",
    "\n",
    "We calculate the effects of the merger on the equilibrium price.\n",
    "\n",
    "We start by importing the usual libraries."
   ]
  },
  {
   "cell_type": "code",
   "execution_count": 11,
   "metadata": {
    "deletable": false,
    "editable": false,
    "nbgrader": {
     "checksum": "7bd770ef54db47c3b6c8d0e31f6baef6",
     "grade": false,
     "grade_id": "cell-b895769bf40e183a",
     "locked": true,
     "schema_version": 1,
     "solution": false
    }
   },
   "outputs": [],
   "source": [
    "import matplotlib.pyplot as plt\n",
    "import pandas as pd\n",
    "import numpy as np\n",
    "from scipy import optimize\n",
    "%matplotlib inline"
   ]
  },
  {
   "cell_type": "markdown",
   "metadata": {},
   "source": [
    "The following code helps to calculate the equilibrium for the case with 3 firms. Note that you have seen similar code during the tutorials to calculate the equilibrium with 2 firms.\n",
    "\n",
    "We assume that before the merger each firm has constant marginal costs equal to 0.3. We assume a simple linear (inverse) demand curve of the form $p=1-Q$ where $p$ denotes price and $Q$ total output on the market. Total output equals the sum of each firm's output: $Q= q_1 + q_2+q_3$."
   ]
  },
  {
   "cell_type": "code",
   "execution_count": 12,
   "metadata": {
    "deletable": false,
    "editable": false,
    "nbgrader": {
     "checksum": "3e30f7ac9d9155ef089b8ca56a0c0436",
     "grade": false,
     "grade_id": "cell-f97a25efed556fd2",
     "locked": true,
     "schema_version": 1,
     "solution": false
    }
   },
   "outputs": [],
   "source": [
    "c0 = 0.3\n",
    "vector_c = [c0]*3\n",
    "\n",
    "def p(Q):\n",
    "    return 1 - Q\n",
    "\n",
    "def costs(q,c):\n",
    "    return c*q\n",
    "\n",
    "def profits(q,Q_other,c):\n",
    "    return p(q+Q_other)*q-costs(q,c)\n",
    "\n",
    "def reaction(Q_other,c):\n",
    "    q1 =  optimize.fminbound(lambda x: -profits(x,Q_other,c),0,1,full_output=1)\n",
    "    return q1[0]\n",
    "\n",
    "def fixed_point_three_firms(vector_q,vector_c):\n",
    "    return [vector_q[0]-reaction(vector_q[1]+vector_q[2],vector_c[0]),\n",
    "            vector_q[1]-reaction(vector_q[0]+vector_q[2],vector_c[1]),\n",
    "            vector_q[2]-reaction(vector_q[0]+vector_q[1],vector_c[2])]\n",
    "\n"
   ]
  },
  {
   "cell_type": "markdown",
   "metadata": {
    "deletable": false,
    "editable": false,
    "nbgrader": {
     "checksum": "f6ea3b2416aca7293a5450c45865f242",
     "grade": false,
     "grade_id": "cell-83284c4090d6de8c",
     "locked": true,
     "schema_version": 1,
     "solution": false
    }
   },
   "source": [
    "#### a) [0.5 points] Show that total equilibrium output equals  0.525. Derive the equilibrium price and Herfindahl index; denote these by `P0` and `H0` resp."
   ]
  },
  {
   "cell_type": "code",
   "execution_count": 99,
   "metadata": {
    "deletable": false,
    "nbgrader": {
     "checksum": "a06d73c35395adb00480733b458cb4a5",
     "grade": true,
     "grade_id": "cell-3b8ee172d9950128",
     "locked": false,
     "points": 0.5,
     "schema_version": 1,
     "solution": true
    }
   },
   "outputs": [
    {
     "name": "stdout",
     "output_type": "stream",
     "text": [
      "Q:0.5249999999999999\n",
      "p:0.4750000000000001\n",
      "Herfindahl index:0.3333333333333333\n"
     ]
    }
   ],
   "source": [
    "# First we derive the total equilibium output\n",
    "Q = str((1-0.3)/4*3)\n",
    "print('Q:' + str((1-0.3)/4*3))\n",
    "# Next we derive the equilibrium price denoted as P0, by using p= 1-Q\n",
    "P0 = 1- ((1-0.3)/4*3)\n",
    "print('p:' + str(P0))\n",
    "#lastly we derive the Herfindahl index denoted as H0, we use the formula: number of firms*((qi/Q)**2)\n",
    "H0 = 3*((1/3)**2)\n",
    "print('Herfindahl index:' + str(H0))\n"
   ]
  },
  {
   "cell_type": "markdown",
   "metadata": {
    "deletable": false,
    "editable": false,
    "nbgrader": {
     "checksum": "87b3b3e0e2d645c280e279312e489dc4",
     "grade": false,
     "grade_id": "cell-4b33762aa4a601fe",
     "locked": true,
     "schema_version": 1,
     "solution": false
    }
   },
   "source": [
    "#### b) [0.5 point] Define a function `fixed_point_two_firms` with the same structure as the function `fixed_point_three_firms` above, except that it derives the equilibrium output levels for a duopoly (two firms). Test this function by showing that each of the two firms produces 0.3333 in case both firms have zero costs."
   ]
  },
  {
   "cell_type": "code",
   "execution_count": 100,
   "metadata": {
    "deletable": false,
    "nbgrader": {
     "checksum": "024a1519155d681b57c85292df535a65",
     "grade": true,
     "grade_id": "cell-5ee215676b91f504",
     "locked": false,
     "points": 0.5,
     "schema_version": 1,
     "solution": true
    }
   },
   "outputs": [
    {
     "name": "stdout",
     "output_type": "stream",
     "text": [
      "[0.33333333 0.33333333]\n"
     ]
    }
   ],
   "source": [
    "# We copied the code in a, but changed the costs to 0 and firms to 2\n",
    "c0 = 0\n",
    "vector_c = [c0]*2\n",
    "\n",
    "def p(Q):\n",
    "    return 1 - Q\n",
    "\n",
    "def costs(q,c):\n",
    "    return c*q\n",
    "\n",
    "def profits(q,Q_other,c):\n",
    "    return p(q+Q_other)*q-costs(q,c)\n",
    "\n",
    "def reaction(Q_other,c):\n",
    "    q1 =  optimize.fminbound(lambda x: -profits(x,Q_other,c),0,1,full_output=1)\n",
    "    return q1[0]\n",
    "\n",
    "def fixed_point_two_firms(vector_q,vector_c):\n",
    "    return [vector_q[0]-reaction(vector_q[1],vector_c[0]), \n",
    "            vector_q[1]-reaction(vector_q[0],vector_c[1])]\n",
    "\n",
    "initial_guess = [0, 0]\n",
    "\n",
    "X = optimize.fsolve(lambda q: fixed_point_two_firms(q,[0,0]), initial_guess)\n",
    "\n",
    "print(X)\n",
    "\n",
    "\n",
    "\n"
   ]
  },
  {
   "cell_type": "markdown",
   "metadata": {
    "deletable": false,
    "editable": false,
    "nbgrader": {
     "checksum": "5291fc8716e367572fde17ebe5844d2f",
     "grade": false,
     "grade_id": "cell-c2fada02efd7b197",
     "locked": true,
     "schema_version": 1,
     "solution": false
    }
   },
   "source": [
    "The Dutch competition authority, ACM, is asked to evaluate the effects of a merger between firms 2 and 3. Firms 2 and 3 claim that by merging they can reduce their constant marginal costs. But it is not clear by how much they will reduce their costs.\n",
    "\n",
    "The ACM assumes that the marginal cost level of the merged firm is uniformly distributed between 0 and the current marginal cost level `c0`. The merger will not affect the marginal cost level of firm 1 who does not merge. Firm 1's cost level remains `c0`.\n",
    "\n",
    "The next cell generates a vector of cost levels for the merged firm, denoted `c_after_merger`. Evaluate \"c_after_merger\" in a separate cell if you do not understand the command that defines it.\n",
    "\n",
    "Then it calculates the equilibrium output levels for (the non-merging) firm 1 and (the merged) firm 2.\n",
    "\n",
    "Note that you need to specify `initial_guess`.\n"
   ]
  },
  {
   "cell_type": "code",
   "execution_count": 101,
   "metadata": {
    "deletable": false,
    "editable": false,
    "nbgrader": {
     "checksum": "11299317cd53e31de9900700999b0324",
     "grade": false,
     "grade_id": "cell-ce91ab3e3225c57d",
     "locked": true,
     "schema_version": 1,
     "solution": false
    }
   },
   "outputs": [],
   "source": [
    "c_after_merger = np.random.uniform(0,c0,size = 100)\n",
    "\n",
    "q1_after_merger = [optimize.fsolve(lambda q: fixed_point_two_firms(q,[c0,c]), initial_guess)[0] for c in c_after_merger]\n",
    "q2_after_merger = [optimize.fsolve(lambda q: fixed_point_two_firms(q,[c0,c]), initial_guess)[1] for c in c_after_merger]\n",
    "\n",
    "\n"
   ]
  },
  {
   "cell_type": "markdown",
   "metadata": {
    "deletable": false,
    "editable": false,
    "nbgrader": {
     "checksum": "2b518306d6ff20ee42d0bc3085333095",
     "grade": false,
     "grade_id": "cell-0acc18b4f07a09f4",
     "locked": true,
     "schema_version": 1,
     "solution": false
    }
   },
   "source": [
    "#### c) [0.5 points] Create a dataframe called `df_after_merger` with three columns: `c_merged_firm`, `output_non_merging_firm`, `output_merged_firm` containing resp. the cost level of the merged firm, the output level of firm 1 and the output level of firm 2."
   ]
  },
  {
   "cell_type": "code",
   "execution_count": 106,
   "metadata": {
    "deletable": false,
    "nbgrader": {
     "checksum": "f4fc6a3bdef91fa3f656ccd3290c9f54",
     "grade": true,
     "grade_id": "cell-f3eacda828774f2d",
     "locked": false,
     "points": 0.5,
     "schema_version": 1,
     "solution": true
    }
   },
   "outputs": [
    {
     "name": "stdout",
     "output_type": "stream",
     "text": [
      "    c_merged_firm  output_merged_firm  output_non_merging_firm\n",
      "0        0.182062            0.311959                 0.194021\n",
      "1        0.261974            0.258684                 0.220658\n",
      "2        0.190289            0.306474                 0.196763\n",
      "3        0.213782            0.290812                 0.204594\n",
      "4        0.006210            0.429194                 0.135403\n",
      "5        0.058435            0.394377                 0.152812\n",
      "6        0.064872            0.390085                 0.154957\n",
      "7        0.295664            0.236224                 0.231888\n",
      "8        0.223956            0.284029                 0.207985\n",
      "9        0.071080            0.385947                 0.157027\n",
      "10       0.011307            0.425795                 0.137102\n",
      "11       0.090475            0.373017                 0.163492\n",
      "12       0.233966            0.277356                 0.211322\n",
      "13       0.114476            0.357016                 0.171492\n",
      "14       0.191517            0.305655                 0.197172\n",
      "15       0.128318            0.347788                 0.176106\n",
      "16       0.153976            0.330683                 0.184659\n",
      "17       0.172753            0.318164                 0.190918\n",
      "18       0.090040            0.373307                 0.163347\n",
      "19       0.195954            0.302698                 0.198651\n",
      "20       0.236036            0.275976                 0.212012\n",
      "21       0.187637            0.308242                 0.195879\n",
      "22       0.248477            0.267682                 0.216159\n",
      "23       0.100016            0.366656                 0.166672\n",
      "24       0.206832            0.295445                 0.202277\n",
      "25       0.120666            0.352889                 0.173555\n",
      "26       0.218898            0.287401                 0.206299\n",
      "27       0.072437            0.385042                 0.157479\n",
      "28       0.172572            0.318285                 0.190857\n",
      "29       0.168664            0.320890                 0.189555\n",
      "..            ...                 ...                      ...\n",
      "70       0.156139            0.329241                 0.185380\n",
      "71       0.036166            0.409222                 0.145389\n",
      "72       0.146308            0.335795                 0.182103\n",
      "73       0.296161            0.235893                 0.232054\n",
      "74       0.225116            0.283256                 0.208372\n",
      "75       0.095175            0.369884                 0.165058\n",
      "76       0.234570            0.276954                 0.211523\n",
      "77       0.149809            0.333460                 0.183270\n",
      "78       0.191415            0.305724                 0.197138\n",
      "79       0.184599            0.310267                 0.194866\n",
      "80       0.019051            0.420632                 0.139684\n",
      "81       0.107403            0.361731                 0.169134\n",
      "82       0.054360            0.397094                 0.151453\n",
      "83       0.055423            0.396385                 0.151808\n",
      "84       0.004569            0.430287                 0.134856\n",
      "85       0.110870            0.359420                 0.170290\n",
      "86       0.051164            0.399224                 0.150388\n",
      "87       0.026320            0.415786                 0.142107\n",
      "88       0.215232            0.289845                 0.205077\n",
      "89       0.155263            0.329825                 0.185088\n",
      "90       0.174940            0.316707                 0.191647\n",
      "91       0.098242            0.367838                 0.166081\n",
      "92       0.244059            0.270627                 0.214686\n",
      "93       0.216163            0.289225                 0.205388\n",
      "94       0.040448            0.406368                 0.146816\n",
      "95       0.257816            0.261456                 0.219272\n",
      "96       0.058096            0.394603                 0.152699\n",
      "97       0.089353            0.373765                 0.163118\n",
      "98       0.263235            0.257844                 0.221078\n",
      "99       0.083103            0.377932                 0.161034\n",
      "\n",
      "[100 rows x 3 columns]\n"
     ]
    }
   ],
   "source": [
    "#We copied the code above and assigned the code to the proper columns\n",
    "c0= 0.3\n",
    "\n",
    "c_after_merger = np.random.uniform(0,c0,size = 100)\n",
    "\n",
    "q1_after_merger = [optimize.fsolve(lambda q: fixed_point_two_firms(q,[c0,c]), initial_guess)[0] for c in c_after_merger]\n",
    "q2_after_merger = [optimize.fsolve(lambda q: fixed_point_two_firms(q,[c0,c]), initial_guess)[1] for c in c_after_merger]\n",
    "\n",
    "A= {'c_merged_firm' :c_after_merger, 'output_non_merging_firm': q1_after_merger, 'output_merged_firm' : q2_after_merger }\n",
    "df_after_merger = pd.DataFrame(data=A)\n",
    "print(df_after_merger\n",
    "     )\n"
   ]
  },
  {
   "cell_type": "markdown",
   "metadata": {
    "deletable": false,
    "editable": false,
    "nbgrader": {
     "checksum": "a5bf4171960844da9c57375d83b6eedf",
     "grade": false,
     "grade_id": "cell-7ad058be42e19df8",
     "locked": true,
     "schema_version": 1,
     "solution": false
    }
   },
   "source": [
    "#### d) [0.5 points] Add three columns to the dataframe with resp. total equilibrium output on the market, `Q`, equilibrium price, `P` and the Herfindahl index, `H`."
   ]
  },
  {
   "cell_type": "code",
   "execution_count": 112,
   "metadata": {
    "deletable": false,
    "nbgrader": {
     "checksum": "ab6179623b39a6ae634abea45326e4ab",
     "grade": true,
     "grade_id": "cell-9c39b11747803ca1",
     "locked": false,
     "points": 0.5,
     "schema_version": 1,
     "solution": true
    }
   },
   "outputs": [
    {
     "name": "stdout",
     "output_type": "stream",
     "text": [
      "           H         P         Q  c_merged_firm  output_merged_firm  \\\n",
      "0   0.527165  0.494021  0.505979       0.182062            0.311959   \n",
      "1   0.503147  0.520658  0.479342       0.261974            0.258684   \n",
      "2   0.523764  0.496763  0.503237       0.190289            0.306474   \n",
      "3   0.515144  0.504594  0.495406       0.213782            0.290812   \n",
      "4   0.635384  0.435403  0.564597       0.006210            0.429194   \n",
      "5   0.597446  0.452812  0.547188       0.058435            0.394377   \n",
      "6   0.593050  0.454957  0.545043       0.064872            0.390085   \n",
      "7   0.500043  0.531888  0.468112       0.295664            0.236224   \n",
      "8   0.511944  0.507985  0.492015       0.223956            0.284029   \n",
      "9   0.588875  0.457027  0.542973       0.071080            0.385947   \n",
      "10  0.631517  0.437102  0.562898       0.011307            0.425795   \n",
      "11  0.576259  0.463492  0.536508       0.090475            0.373017   \n",
      "12  0.509130  0.511322  0.488678       0.233966            0.277356   \n",
      "13  0.561613  0.471492  0.528508       0.114476            0.357016   \n",
      "14  0.523273  0.497172  0.502828       0.191517            0.305655   \n",
      "15  0.553695  0.476106  0.523894       0.128318            0.347788   \n",
      "16  0.540145  0.484659  0.515341       0.153976            0.330683   \n",
      "17  0.531238  0.490918  0.509082       0.172753            0.318164   \n",
      "18  0.576534  0.463347  0.536653       0.090040            0.373307   \n",
      "19  0.521535  0.498651  0.501349       0.195954            0.302698   \n",
      "20  0.508591  0.512012  0.487988       0.236036            0.275976   \n",
      "21  0.524840  0.495879  0.504121       0.187637            0.308242   \n",
      "22  0.505670  0.516159  0.483841       0.248477            0.267682   \n",
      "23  0.570303  0.466672  0.533328       0.100016            0.366656   \n",
      "24  0.517520  0.502277  0.497723       0.206832            0.295445   \n",
      "25  0.558021  0.473555  0.526445       0.120666            0.352889   \n",
      "26  0.513493  0.506299  0.493701       0.218898            0.287401   \n",
      "27  0.587971  0.457479  0.542521       0.072437            0.385042   \n",
      "28  0.531320  0.490857  0.509143       0.172572            0.318285   \n",
      "29  0.533101  0.489555  0.510445       0.168664            0.320890   \n",
      "..       ...       ...       ...            ...                 ...   \n",
      "70  0.539073  0.485380  0.514620       0.156139            0.329241   \n",
      "71  0.613150  0.445389  0.554611       0.036166            0.409222   \n",
      "72  0.544034  0.482103  0.517897       0.146308            0.335795   \n",
      "73  0.500034  0.532054  0.467946       0.296161            0.235893   \n",
      "74  0.511600  0.508372  0.491628       0.225116            0.283256   \n",
      "75  0.573303  0.465058  0.534942       0.095175            0.369884   \n",
      "76  0.508971  0.511523  0.488477       0.234570            0.276954   \n",
      "77  0.542240  0.483270  0.516730       0.149809            0.333460   \n",
      "78  0.523314  0.497138  0.502862       0.191415            0.305724   \n",
      "79  0.526096  0.494866  0.505134       0.184599            0.310267   \n",
      "80  0.625706  0.439684  0.560316       0.019051            0.420632   \n",
      "81  0.565811  0.469134  0.530866       0.107403            0.361731   \n",
      "82  0.600263  0.451453  0.548547       0.054360            0.397094   \n",
      "83  0.599526  0.451808  0.548192       0.055423            0.396385   \n",
      "84  0.636636  0.434856  0.565144       0.004569            0.430287   \n",
      "85  0.563740  0.470290  0.529710       0.110870            0.359420   \n",
      "86  0.602491  0.450388  0.549612       0.051164            0.399224   \n",
      "87  0.620324  0.442107  0.557893       0.026320            0.415786   \n",
      "88  0.514668  0.505077  0.494923       0.215232            0.289845   \n",
      "89  0.539506  0.485088  0.514912       0.155263            0.329825   \n",
      "90  0.530260  0.491647  0.508353       0.174940            0.316707   \n",
      "91  0.571397  0.466081  0.533919       0.098242            0.367838   \n",
      "92  0.506643  0.514686  0.485314       0.244059            0.270627   \n",
      "93  0.514365  0.505388  0.494612       0.216163            0.289225   \n",
      "94  0.610072  0.446816  0.553184       0.040448            0.406368   \n",
      "95  0.503850  0.519272  0.480728       0.257816            0.261456   \n",
      "96  0.597679  0.452699  0.547301       0.058096            0.394603   \n",
      "97  0.576970  0.463118  0.536882       0.089353            0.373765   \n",
      "98  0.502947  0.521078  0.478922       0.263235            0.257844   \n",
      "99  0.580976  0.461034  0.538966       0.083103            0.377932   \n",
      "\n",
      "    output_non_merging_firm  \n",
      "0                  0.194021  \n",
      "1                  0.220658  \n",
      "2                  0.196763  \n",
      "3                  0.204594  \n",
      "4                  0.135403  \n",
      "5                  0.152812  \n",
      "6                  0.154957  \n",
      "7                  0.231888  \n",
      "8                  0.207985  \n",
      "9                  0.157027  \n",
      "10                 0.137102  \n",
      "11                 0.163492  \n",
      "12                 0.211322  \n",
      "13                 0.171492  \n",
      "14                 0.197172  \n",
      "15                 0.176106  \n",
      "16                 0.184659  \n",
      "17                 0.190918  \n",
      "18                 0.163347  \n",
      "19                 0.198651  \n",
      "20                 0.212012  \n",
      "21                 0.195879  \n",
      "22                 0.216159  \n",
      "23                 0.166672  \n",
      "24                 0.202277  \n",
      "25                 0.173555  \n",
      "26                 0.206299  \n",
      "27                 0.157479  \n",
      "28                 0.190857  \n",
      "29                 0.189555  \n",
      "..                      ...  \n",
      "70                 0.185380  \n",
      "71                 0.145389  \n",
      "72                 0.182103  \n",
      "73                 0.232054  \n",
      "74                 0.208372  \n",
      "75                 0.165058  \n",
      "76                 0.211523  \n",
      "77                 0.183270  \n",
      "78                 0.197138  \n",
      "79                 0.194866  \n",
      "80                 0.139684  \n",
      "81                 0.169134  \n",
      "82                 0.151453  \n",
      "83                 0.151808  \n",
      "84                 0.134856  \n",
      "85                 0.170290  \n",
      "86                 0.150388  \n",
      "87                 0.142107  \n",
      "88                 0.205077  \n",
      "89                 0.185088  \n",
      "90                 0.191647  \n",
      "91                 0.166081  \n",
      "92                 0.214686  \n",
      "93                 0.205388  \n",
      "94                 0.146816  \n",
      "95                 0.219272  \n",
      "96                 0.152699  \n",
      "97                 0.163118  \n",
      "98                 0.221078  \n",
      "99                 0.161034  \n",
      "\n",
      "[100 rows x 6 columns]\n"
     ]
    }
   ],
   "source": [
    "#We changed the lists into arrays, because then we coud derive the functions of Q, P and H. WHich we inserted in a dataframe.\n",
    "\n",
    "production_merged_firm = np.array(q2_after_merger)\n",
    "production_non_merging_firm = np.array(q1_after_merger)\n",
    "                                      \n",
    "Q = np.array(production_merged_firm + production_non_merging_firm)\n",
    "P = 100*[1]- Q\n",
    "H = ((production_merged_firm/Q)**2) + ((production_non_merging_firm/Q)**2)\n",
    "\n",
    "A= {'c_merged_firm' :c_after_merger, 'output_non_merging_firm': q1_after_merger, 'output_merged_firm' : q2_after_merger ,'Q': Q, 'P' : P, 'H' : H}\n",
    "df_after_merger = pd.DataFrame(data=A)\n",
    "print(df_after_merger)\n",
    "\n"
   ]
  },
  {
   "cell_type": "markdown",
   "metadata": {},
   "source": [
    "#### e) [0.5 points] Make a histogram of the equilibrium price `P` after the merger. Also indicate in the histogram the equilibrium price before the merger `P0`. Label the horizontal axis with $P$.\n",
    "\n",
    "[hint: you may want to use matplotlib's `hist`, `vlines` and `legend` to make this graph (e.g use google to find these functions); but feel free to use something else]"
   ]
  },
  {
   "cell_type": "code",
   "execution_count": 136,
   "metadata": {
    "deletable": false,
    "nbgrader": {
     "checksum": "b103cd98545261b20f937f4b9db67f68",
     "grade": true,
     "grade_id": "cell-f9193bf8e71f1a9a",
     "locked": false,
     "points": 0.5,
     "schema_version": 1,
     "solution": true
    }
   },
   "outputs": [
    {
     "data": {
      "text/plain": [
       "<matplotlib.collections.LineCollection at 0x25471e04a90>"
      ]
     },
     "execution_count": 136,
     "metadata": {},
     "output_type": "execute_result"
    },
    {
     "data": {
      "image/png": "[encoded data removed]",
      "text/plain": [
       "<matplotlib.figure.Figure at 0x254731dab00>"
      ]
     },
     "metadata": {},
     "output_type": "display_data"
    }
   ],
   "source": [
    "#We made a histogram of the equilibrium prices after the merger, the thin vertical line represents the equilibrium price before the merger\n",
    "plt.hist(P)\n",
    "plt.xlabel('P')\n",
    "plt.ylabel('Frequency')\n",
    "\n",
    "P0= 1- ((1-0.3)/4*3)\n",
    "plt.vlines(x = P0, ymin=0, ymax=17)"
   ]
  },
  {
   "cell_type": "markdown",
   "metadata": {},
   "source": [
    "#### f) [0.5 points] Explain why sometimes the equilibrium price after the merger exceeds the equilibrium price before the merger and sometimes it is lower than the pre-merger price. [hint: there is a trade off between two effects, depending on which effect dominates, equilibrium price increases or decreases after the merger]"
   ]
  },
  {
   "cell_type": "markdown",
   "metadata": {
    "deletable": false,
    "nbgrader": {
     "checksum": "dd9fc721b7cf7f66587e93cbfb758034",
     "grade": true,
     "grade_id": "cell-7a1f367cd2854156",
     "locked": false,
     "points": 0.5,
     "schema_version": 1,
     "solution": true
    }
   },
   "source": [
    "A merger can reduce competition, which increases the equilibrium price or it can make a firm more efficient thus decreasing the equilibrium price. "
   ]
  },
  {
   "cell_type": "markdown",
   "metadata": {
    "deletable": false,
    "editable": false,
    "nbgrader": {
     "checksum": "e1e41dbf14c605bf91cdc78f70eada99",
     "grade": false,
     "grade_id": "cell-06ed6044f8938a45",
     "locked": true,
     "schema_version": 1,
     "solution": false
    }
   },
   "source": [
    "#### g) [0.5 points] Make a graph with the Herfindahl index on the horizontal axis and the equilibrium price on the vertical axis. This is straightforward for $(H,P)$ after the merger as both values are in the dataframe. Add in another color, the pre-merger combination `(H0,P0)` that we calculated above."
   ]
  },
  {
   "cell_type": "code",
   "execution_count": 138,
   "metadata": {
    "deletable": false,
    "nbgrader": {
     "checksum": "51cfaacbaf533e85d9794bc74712afd5",
     "grade": true,
     "grade_id": "cell-d647464d04870b73",
     "locked": false,
     "points": 0.5,
     "schema_version": 1,
     "solution": true
    }
   },
   "outputs": [
    {
     "data": {
      "text/plain": [
       "<matplotlib.collections.PathCollection at 0x254731f0d68>"
      ]
     },
     "execution_count": 138,
     "metadata": {},
     "output_type": "execute_result"
    },
    {
     "data": {
      "image/png": "[encoded data removed]",
      "text/plain": [
       "<matplotlib.figure.Figure at 0x25471e7b630>"
      ]
     },
     "metadata": {},
     "output_type": "display_data"
    }
   ],
   "source": [
    "#We made a graph of all the possible outcomes of H an P after the merger, the orange dot represents the pre-merger combination of H and P.\n",
    "plt.plot(H,P)\n",
    "plt.xlabel('H')\n",
    "plt.ylabel('P')\n",
    "plt.scatter(H0,P0, color= 'Orange')\n",
    "        \n",
    "        \n",
    "\n",
    "         \n",
    "         "
   ]
  },
  {
   "cell_type": "markdown",
   "metadata": {
    "deletable": false,
    "editable": false,
    "nbgrader": {
     "checksum": "11b6609131b1c25886f2c6cafe0f7a59",
     "grade": false,
     "grade_id": "cell-5c5e5776a7c135a2",
     "locked": true,
     "schema_version": 1,
     "solution": false
    }
   },
   "source": [
    "#### h) [0.5 points] Use the graph under g) to discuss the relation between the Herfindahl index and the equilibrium price. To illustrate, some people think that lower values of the Herfindahl index are associated with more competitive outcome. Would you agree with this?"
   ]
  },
  {
   "cell_type": "markdown",
   "metadata": {
    "collapsed": true,
    "deletable": false,
    "nbgrader": {
     "checksum": "3d396887dde3b00420c623b9f4ea8ed2",
     "grade": true,
     "grade_id": "cell-cbd89d483b23a953",
     "locked": false,
     "points": 0.5,
     "schema_version": 1,
     "solution": true
    }
   },
   "source": [
    "We have a downward sloping line, so this implies that when the Herfindahl index increases the equilibrium price decreases. We do not agree, because more competitiveness would suggest a lower price, but a lower H gives a higher price."
   ]
  },
  {
   "cell_type": "markdown",
   "metadata": {},
   "source": [
    "## Github\n",
    "\n",
    "After you have finished, we need to upload this notebook on github. Make sure that you upload the file on the github page of each collaborator."
   ]
  },
  {
   "cell_type": "markdown",
   "metadata": {},
   "source": [
    "Instructions on how to upload this on github can be found [on this page](http://janboone.github.io/programming-for-economists/github.html). This page has two screencasts: one shows how to drag the notebook onto your github page, the other shows how you can use the command line to upload your notebook.\n"
   ]
  },
  {
   "cell_type": "markdown",
   "metadata": {},
   "source": [
    "Remember to update the README file in your repository to include a link to this notebook on github.\n",
    "\n",
    "\n",
    "The links that you should post start with “github.com/” and are NOT of the form “http://localhost”. Make sure you test your links after uploading."
   ]
  },
  {
   "cell_type": "code",
   "execution_count": null,
   "metadata": {
    "collapsed": true
   },
   "outputs": [],
   "source": []
  }
 ],
 "metadata": {
  "anaconda-cloud": {},
  "kernelspec": {
   "display_name": "Python 3",
   "language": "python",
   "name": "python3"
  },
  "language_info": {
   "codemirror_mode": {
    "name": "ipython",
    "version": 3
   },
   "file_extension": ".py",
   "mimetype": "text/x-python",
   "name": "python",
   "nbconvert_exporter": "python",
   "pygments_lexer": "ipython3",
   "version": "3.6.4"
  }
 },
 "nbformat": 4,
 "nbformat_minor": 1
}
